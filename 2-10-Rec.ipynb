{
 "cells": [
  {
   "cell_type": "code",
   "execution_count": 1,
   "metadata": {},
   "outputs": [],
   "source": [
    "import numpy as np\n",
    "from scipy import special as sp\n",
    "import math\n",
    "import matplotlib.pyplot as plt\n",
    "from mayavi import mlab\n",
    "import mayavi.tools.pipeline as mvpl"
   ]
  },
  {
   "cell_type": "code",
   "execution_count": 2,
   "metadata": {},
   "outputs": [],
   "source": [
    "#defined constants; not non-normalization (A should be a normalizing constant)\n",
    "h = 1\n",
    "a = 1 # the bohr radius is 1 now\n",
    "\n",
    "def psi(n,l,m,r,t,p):# the wavefunction, per griffiths\n",
    "    val = (2/n/a)**3\n",
    "    val *= math.factorial(n-l-1)\n",
    "    val /= (2*n*math.factorial(n+l)**3)\n",
    "    val = np.sqrt(val)\n",
    "    val *= np.exp(-1*r/n/a)\n",
    "    val *= (2*r/n/a)**l\n",
    "    val *= sp.genlaguerre(n-l-1,2*l+1)(2*r/n/a)\n",
    "    val = val.astype('complex128')\n",
    "    val *= sp.sph_harm(m,l,p,t)\n",
    "    return val\n",
    "#coordinate transforms, for plotting\n",
    "def r(x,y,z): \n",
    "    return np.sqrt(x**2+y**2+z**2)\n",
    "def theta(x,y,z):\n",
    "    return np.arctan(np.sqrt(x**2+y**2)/z)\n",
    "def phi(x,y,z):\n",
    "    return np.arctan(y/x)\n",
    "\n"
   ]
  },
  {
   "cell_type": "code",
   "execution_count": 26,
   "metadata": {},
   "outputs": [],
   "source": [
    "#n,l,m of orbit\n",
    "na = 3\n",
    "la = 2\n",
    "ma = 1\n",
    "scale = 7\n",
    "#define a grid, limit it to the range of applicability\n",
    "xa,ya,za = np.ogrid[-na*scale*a:na*scale*a:100j, -na*scale*a:na*scale*a:100j, -na*scale*a:na*scale*a:100j]\n",
    "#amp squared field\n",
    "amppsisq= np.absolute(psi(na,la,ma,r(xa,ya,za),theta(xa,ya,za),phi(xa,ya,za)))**2\n",
    "#plot an isocontour\n",
    "mlab.contour3d(amppsisq)\n",
    "mlab.axes()\n",
    "mlab.show()\n",
    "#plot it as a scalar field\n",
    "psisqfield = mvpl.scalar_field(amppsisq)\n",
    "#color scaling\n",
    "min = amppsisq.min()\n",
    "max = amppsisq.max()\n",
    "mlab.pipeline.volume(psisqfield,vmin=min, vmax=min + .5*(max-min))\n",
    "mlab.axes()\n",
    "mlab.show()"
   ]
  },
  {
   "cell_type": "markdown",
   "metadata": {},
   "source": [
    "Exercise: How do we get the $2p_x$, $2p_y$, $2p_z$ orbitals?\n",
    "\n",
    "We know that they correspond to $n=2$,$l=1$, and that there are 3 for the 3 possibilities of m. \n",
    "\n",
    "First, let's try m = 0, $\\pm$ 1"
   ]
  },
  {
   "cell_type": "code",
   "execution_count": 35,
   "metadata": {},
   "outputs": [],
   "source": [
    "#n,l of orbit\n",
    "na = 2\n",
    "la = 1\n",
    "scale = 7\n",
    "#define a grid, limit it to the range of applicability\n",
    "xa,ya,za = np.ogrid[-na*scale*a:na*scale*a:100j, -na*scale*a:na*scale*a:100j, -na*scale*a:na*scale*a:100j]\n",
    "#amp squared field\n",
    "#This is m = 0\n",
    "amppsisq= np.absolute(psi(na,la,0,r(xa,ya,za),theta(xa,ya,za),phi(xa,ya,za)))**2\n",
    "#plot an isocontour (if you want)\n",
    "#mlab.contour3d(amppsisq)\n",
    "#mlab.axes()\n",
    "#mlab.show()\n",
    "#plot it as a scalar field\n",
    "psisqfield = mvpl.scalar_field(amppsisq)\n",
    "#color scaling\n",
    "min = amppsisq.min()\n",
    "max = amppsisq.max()\n",
    "mlab.pipeline.volume(psisqfield,vmin=min, vmax=min + .5*(max-min))\n",
    "mlab.axes()\n",
    "mlab.show()"
   ]
  },
  {
   "cell_type": "code",
   "execution_count": 33,
   "metadata": {},
   "outputs": [],
   "source": [
    "#n,l of orbit\n",
    "na = 2\n",
    "la = 1\n",
    "scale = 7\n",
    "#define a grid, limit it to the range of applicability\n",
    "xa,ya,za = np.ogrid[-na*scale*a:na*scale*a:100j, -na*scale*a:na*scale*a:100j, -na*scale*a:na*scale*a:100j]\n",
    "#amp squared field\n",
    "#This is m = -1\n",
    "amppsisq= np.absolute(psi(na,la,-1,r(xa,ya,za),theta(xa,ya,za),phi(xa,ya,za)))**2\n",
    "#plot an isocontour (if you want)\n",
    "#mlab.contour3d(amppsisq)\n",
    "#mlab.axes()\n",
    "#mlab.show()\n",
    "#plot it as a scalar field\n",
    "psisqfield = mvpl.scalar_field(amppsisq)\n",
    "#color scaling\n",
    "min = amppsisq.min()\n",
    "max = amppsisq.max()\n",
    "mlab.pipeline.volume(psisqfield,vmin=min, vmax=min + .5*(max-min))\n",
    "mlab.axes()\n",
    "mlab.show()"
   ]
  },
  {
   "cell_type": "code",
   "execution_count": 34,
   "metadata": {},
   "outputs": [],
   "source": [
    "#n,l of orbit\n",
    "na = 2\n",
    "la = 1\n",
    "scale = 7\n",
    "#define a grid, limit it to the range of applicability\n",
    "xa,ya,za = np.ogrid[-na*scale*a:na*scale*a:100j, -na*scale*a:na*scale*a:100j, -na*scale*a:na*scale*a:100j]\n",
    "#amp squared field\n",
    "#This is m = 1\n",
    "amppsisq= np.absolute(psi(na,la,1,r(xa,ya,za),theta(xa,ya,za),phi(xa,ya,za)))**2\n",
    "#plot an isocontour (if you want)\n",
    "#mlab.contour3d(amppsisq)\n",
    "#mlab.axes()\n",
    "#mlab.show()\n",
    "#plot it as a scalar field\n",
    "psisqfield = mvpl.scalar_field(amppsisq)\n",
    "#color scaling\n",
    "min = amppsisq.min()\n",
    "max = amppsisq.max()\n",
    "mlab.pipeline.volume(psisqfield,vmin=min, vmax=min + .5*(max-min))\n",
    "mlab.axes()\n",
    "mlab.show()"
   ]
  },
  {
   "cell_type": "markdown",
   "metadata": {},
   "source": [
    "As one can see, $m = 0$ corresponds to what we expect: two lobes along a coordinate axis (Which? Why?)\n",
    "\n",
    "The other two, though, are donuts - that's definitely not $p_x$ or $p_y$.\n",
    "\n",
    "So, what to do? Let's try a linear combination to try and obtain $p_y$:"
   ]
  },
  {
   "cell_type": "code",
   "execution_count": null,
   "metadata": {},
   "outputs": [],
   "source": [
    "#n,l of orbit\n",
    "na = 2\n",
    "la = 1\n",
    "scale = 7\n",
    "#define a grid, limit it to the range of applicability\n",
    "xa,ya,za = np.ogrid[-na*scale*a:na*scale*a:100j, -na*scale*a:na*scale*a:100j, -na*scale*a:na*scale*a:100j]\n",
    "#amp squared field\n",
    "psi1 = # A wave function\n",
    "psi2 = # Another wave function\n",
    "#Substitute A,B, and C for appropriate constants (note, these could be 1), A is an overall normalization constant\n",
    "psit = A * (B*psi1 + C*psi2)\n",
    "# now psit is a linear combination of these two wave functions\n",
    "# it should be normalized (this should be pretty straightforward to enforce)\n",
    "amppsisq= np.absolute(psit)**2\n",
    "#plot an isocontour (if you want)\n",
    "#mlab.contour3d(amppsisq)\n",
    "#mlab.axes()\n",
    "#mlab.show()\n",
    "#plot it as a scalar field\n",
    "psisqfield = mvpl.scalar_field(amppsisq)\n",
    "#color scaling\n",
    "min = amppsisq.min()\n",
    "max = amppsisq.max()\n",
    "mlab.pipeline.volume(psisqfield,vmin=min, vmax=min + .5*(max-min))\n",
    "mlab.axes()\n",
    "mlab.show()"
   ]
  },
  {
   "cell_type": "markdown",
   "metadata": {},
   "source": [
    "Let's try to get $p_x$ as well:"
   ]
  },
  {
   "cell_type": "code",
   "execution_count": 41,
   "metadata": {},
   "outputs": [],
   "source": [
    "#n,l of orbit\n",
    "na = 2\n",
    "la = 1\n",
    "scale = 7\n",
    "#define a grid, limit it to the range of applicability\n",
    "xa,ya,za = np.ogrid[-na*scale*a:na*scale*a:100j, -na*scale*a:na*scale*a:100j, -na*scale*a:na*scale*a:100j]\n",
    "#amp squared field\n",
    "psi1 = # A wave function\n",
    "psi2 = # Another wave function\n",
    "#Substitute A,B, and C for appropriate constants (note, these could be 1), A is an overall normalization constant\n",
    "psit = A * (B*psi1 + C*psi2)\n",
    "# now psit is a linear combination of these two wave functions\n",
    "# it should be normalized (this should be pretty straightforward to enforce)\n",
    "amppsisq= np.absolute(psit)**2\n",
    "#plot an isocontour (if you want)\n",
    "#mlab.contour3d(amppsisq)\n",
    "#mlab.axes()\n",
    "#mlab.show()\n",
    "#plot it as a scalar field\n",
    "psisqfield = mvpl.scalar_field(amppsisq)\n",
    "#color scaling\n",
    "min = amppsisq.min()\n",
    "max = amppsisq.max()\n",
    "mlab.pipeline.volume(psisqfield,vmin=min, vmax=min + .5*(max-min))\n",
    "mlab.axes()\n",
    "mlab.show()"
   ]
  },
  {
   "cell_type": "code",
   "execution_count": 5,
   "metadata": {},
   "outputs": [
    {
     "name": "stdout",
     "output_type": "stream",
     "text": [
      "(-2.115541521371041e-17-0.3454941494713355j)\n"
     ]
    }
   ],
   "source": [
    "print(sp.sph_harm(1,1,np.pi/2,np.pi/2))"
   ]
  },
  {
   "cell_type": "code",
   "execution_count": null,
   "metadata": {},
   "outputs": [],
   "source": []
  }
 ],
 "metadata": {
  "kernelspec": {
   "display_name": "Python 3",
   "language": "python",
   "name": "python3"
  },
  "language_info": {
   "codemirror_mode": {
    "name": "ipython",
    "version": 3
   },
   "file_extension": ".py",
   "mimetype": "text/x-python",
   "name": "python",
   "nbconvert_exporter": "python",
   "pygments_lexer": "ipython3",
   "version": "3.8.3"
  }
 },
 "nbformat": 4,
 "nbformat_minor": 4
}
