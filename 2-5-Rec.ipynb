{
 "cells": [
  {
   "cell_type": "code",
   "execution_count": 7,
   "metadata": {},
   "outputs": [],
   "source": [
    "import numpy as np\n",
    "from scipy import special as sp\n",
    "import matplotlib.pyplot as plt\n",
    "from mayavi import mlab\n",
    "import mayavi.tools.pipeline as mvpl"
   ]
  },
  {
   "cell_type": "code",
   "execution_count": 20,
   "metadata": {},
   "outputs": [],
   "source": [
    "#defined constants; not non-normalization (A should be a normalizing constant)\n",
    "h = 1\n",
    "a = 1\n",
    "mass = 1\n",
    "Aa = 1\n",
    "# l --> v\n",
    "# z --> arg\n",
    "def Bessel_zero(n,l): #convenience def of Bessel J zeros\n",
    "    #Bessel Order = l\n",
    "    #n --> nth 0\n",
    "    return sp.jn_zeros(l,n)[n-1]\n",
    "def Enl(n,l): #energy, unused\n",
    "    return h**2/2/mass/a*Bessel_zero(n,l)^2\n",
    "def psi(n,l,m,A,r,t,p):# the wavefunction, per griffiths\n",
    "    besselcomp = sp.jv(l,Bessel_zero(n,l)*r/a)\n",
    "    sphcomp = sp.sph_harm(m,l,p,t)\n",
    "    return A*besselcomp*sphcomp\n",
    "#coordinate transforms, for plotting\n",
    "def r(x,y,z): \n",
    "    return np.sqrt(x**2+y**2+z**2)\n",
    "def theta(x,y,z):\n",
    "    return np.arctan(np.sqrt(x**2+y**2)/z)\n",
    "def phi(x,y,z):\n",
    "    return np.arctan(y/x)\n",
    "\n"
   ]
  },
  {
   "cell_type": "code",
   "execution_count": null,
   "metadata": {},
   "outputs": [],
   "source": [
    "#n,l,m of orbit\n",
    "na = 2\n",
    "la = 1\n",
    "ma = 0\n",
    "#define a grid, limit it to the range of applicability\n",
    "xa,ya,za = np.ogrid[-a:a:20j, -a:a:20j, -a:a:20j]\n",
    "#amp squared field\n",
    "amppsisq= np.absolute(psi(na,la,ma,Aa,r(xa,ya,za),theta(xa,ya,za),phi(xa,ya,za)))**2\n",
    "#plot an isocontour\n",
    "mlab.contour3d(amppsisq)\n",
    "mlab.axes()\n",
    "mlab.show()\n",
    "#plot it as a scalar field\n",
    "psisqfield = mvpl.scalar_field(amppsisq)\n",
    "#color scaling\n",
    "min = amppsisq.min()\n",
    "max = amppsisq.max()\n",
    "mlab.pipeline.volume(psisqfield,vmin=min, vmax=min + .5*(max-min))\n",
    "mlab.axes()\n",
    "mlab.show()"
   ]
  },
  {
   "cell_type": "code",
   "execution_count": null,
   "metadata": {},
   "outputs": [],
   "source": []
  }
 ],
 "metadata": {
  "kernelspec": {
   "display_name": "Python 3",
   "language": "python",
   "name": "python3"
  },
  "language_info": {
   "codemirror_mode": {
    "name": "ipython",
    "version": 3
   },
   "file_extension": ".py",
   "mimetype": "text/x-python",
   "name": "python",
   "nbconvert_exporter": "python",
   "pygments_lexer": "ipython3",
   "version": "3.8.3"
  }
 },
 "nbformat": 4,
 "nbformat_minor": 4
}
